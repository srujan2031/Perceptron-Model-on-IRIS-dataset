{
  "cells": [
    {
      "cell_type": "code",
      "execution_count": 95,
      "id": "f6a497c8",
      "metadata": {
        "id": "f6a497c8"
      },
      "outputs": [],
      "source": [
        "# Importing dependencies.\n",
        "import numpy as n_y\n",
        "from matplotlib import pyplot as mlt\n",
        "import pandas as ps\n",
        "from matplotlib.colors import ListedColormap"
      ]
    },
    {
      "cell_type": "markdown",
      "id": "f0faa215",
      "metadata": {
        "id": "f0faa215"
      },
      "source": [
        "Creation of LINEAR_CATEGORIZER Class"
      ]
    },
    {
      "cell_type": "code",
      "execution_count": 96,
      "id": "19938fa6",
      "metadata": {
        "id": "19938fa6"
      },
      "outputs": [],
      "source": [
        "class LINEAR_CATEGORIZER(object):\n",
        "    #Initiating the learning rate and number of iterations.\n",
        "    def __init__(self, Learn_Rate=0.5, Iterations=10):\n",
        "        self.learn_rate = Learn_Rate\n",
        "        self.Iterations = Iterations\n",
        "        self.errors = []\n",
        "        self.weights = n_y.zeros(1 + x.shape[1])\n",
        "    \n",
        "    # Defining fit method for model training.\n",
        "    def fit(self, x, y):\n",
        "        self.weights = n_y.zeros(1 + x.shape[1])\n",
        "        for i in range(self.Iterations):\n",
        "            for xi, target in zip(x, y):\n",
        "                update = self.learn_rate * (target - self.predict(xi))\n",
        "                self.weights[1:] += update*xi\n",
        "                self.weights[0] += update\n",
        "        return self\n",
        "    \n",
        "    # Net Input method for summing the given matrix inputs and their corresponding weights.\n",
        "    def net_input(self, x):\n",
        "        return n_y.dot(x, self.weights[1:]) + self.weights[0]\n",
        "    \n",
        "    # Predict method for predicting the classification of data inputs.\n",
        "    def predict(self, x):\n",
        "        return n_y.where(self.net_input(x) >= 0.0, 1, -1)"
      ]
    },
    {
      "cell_type": "markdown",
      "id": "c0a78b55",
      "metadata": {
        "id": "c0a78b55"
      },
      "source": [
        "Data Retrieval and Preparation"
      ]
    },
    {
      "cell_type": "code",
      "execution_count": 97,
      "id": "2495b2c8",
      "metadata": {
        "id": "2495b2c8"
      },
      "outputs": [],
      "source": [
        "iris_data = ps.read_csv(\"https://archive.ics.uci.edu/ml/machine-learning-databases/iris/iris.data\", header=None)\n"
      ]
    },
    {
      "cell_type": "markdown",
      "id": "13e19080",
      "metadata": {
        "id": "13e19080"
      },
      "source": [
        "Linear Classifier for classying Iris-Setosa and Iris-Versicolor"
      ]
    },
    {
      "cell_type": "code",
      "execution_count": 98,
      "id": "c88552e4",
      "metadata": {
        "id": "c88552e4"
      },
      "outputs": [],
      "source": [
        "def plot_decision_surface(X, y, classifier, resolution=0.02):\n",
        "    # setup marker generator and color map\n",
        "    markers = ('s', 'x', 'o', '^', 'v')\n",
        "    colors = ('red', 'green', 'lightgreen', 'gray', 'cyan')\n",
        "    cmap = ListedColormap(colors[:len(n_y.unique(y))])\n",
        "    # plot the decision surface\n",
        "    x1_min, x1_max = X[:, 0].min() - 1, X[:, 0].max() + 1\n",
        "    x2_min, x2_max = X[:, 1].min() - 1, X[:, 1].max() + 1\n",
        "    xx1, xx2 = n_y.meshgrid(n_y.arange(x1_min, x1_max, resolution),\n",
        "                           n_y.arange(x2_min, x2_max, resolution))\n",
        "    Z = classifier.predict(n_y.array([xx1.ravel(), xx2.ravel()]).T)\n",
        "    Z = Z.reshape(xx1.shape)\n",
        "    mlt.contourf(xx1, xx2, Z, alpha=0.4, cmap=cmap)\n",
        "    mlt.xlim(xx1.min(), xx1.max())\n",
        "    mlt.ylim(xx2.min(), xx2.max())\n",
        "    # plot class samples\n",
        "    for idx, cl in enumerate(n_y.unique(y)):\n",
        "        mlt.scatter(x=X[y == cl, 0], y=X[y == cl, 1],\n",
        "                    alpha=0.8, c=cmap(idx),\n",
        "                    marker=markers[idx], label=cl)"
      ]
    },
    {
      "cell_type": "code",
      "execution_count": 99,
      "id": "5f216bc0",
      "metadata": {
        "id": "5f216bc0"
      },
      "outputs": [],
      "source": [
        "#Sepal Length and Petal Length are selected as Training Features\n",
        "#Iris-Setosa is replaced by -1\n",
        "#Iris-Versicolor is replaced by 1\n",
        "\n",
        "x = iris_data.iloc[0:100, [0, 2]].values\n",
        "y = iris_data.iloc[0:100, 4].values\n",
        "y = n_y.where(y == 'Iris-setosa', -1, 1)"
      ]
    },
    {
      "cell_type": "code",
      "execution_count": 100,
      "id": "02e294ce",
      "metadata": {
        "colab": {
          "base_uri": "https://localhost:8080/"
        },
        "id": "02e294ce",
        "outputId": "ca5d1534-15cb-49fa-f91b-dbb340bb3831"
      },
      "outputs": [
        {
          "output_type": "execute_result",
          "data": {
            "text/plain": [
              "<__main__.LINEAR_CATEGORIZER at 0x7f64f2b48a90>"
            ]
          },
          "metadata": {},
          "execution_count": 100
        }
      ],
      "source": [
        "Classifier1 = LINEAR_CATEGORIZER(Learn_Rate=0.01, Iterations=50)\n",
        "Classifier1.fit(x, y)"
      ]
    },
    {
      "cell_type": "code",
      "execution_count": 101,
      "id": "6576f00e",
      "metadata": {
        "colab": {
          "base_uri": "https://localhost:8080/",
          "height": 335
        },
        "id": "6576f00e",
        "outputId": "446e6532-efb2-4942-ea1c-a74330e907a9"
      },
      "outputs": [
        {
          "output_type": "stream",
          "name": "stderr",
          "text": [
            "WARNING:matplotlib.axes._axes:*c* argument looks like a single numeric RGB or RGBA sequence, which should be avoided as value-mapping will have precedence in case its length matches with *x* & *y*.  Please use the *color* keyword-argument or provide a 2-D array with a single row if you intend to specify the same RGB or RGBA value for all points.\n",
            "WARNING:matplotlib.axes._axes:*c* argument looks like a single numeric RGB or RGBA sequence, which should be avoided as value-mapping will have precedence in case its length matches with *x* & *y*.  Please use the *color* keyword-argument or provide a 2-D array with a single row if you intend to specify the same RGB or RGBA value for all points.\n"
          ]
        },
        {
          "output_type": "display_data",
          "data": {
            "text/plain": [
              "<Figure size 432x288 with 1 Axes>"
            ],
            "image/png": "[encoded data removed]"
          },
          "metadata": {
            "needs_background": "light"
          }
        }
      ],
      "source": [
        "plot_decision_surface(x, y, classifier=Classifier1)\n",
        "mlt.xlabel('Sepal Length (cm)')\n",
        "mlt.ylabel('Petal Length (cm)')\n",
        "mlt.legend()\n",
        "mlt.show()"
      ]
    },
    {
      "cell_type": "code",
      "execution_count": 102,
      "id": "61677f6f",
      "metadata": {
        "id": "61677f6f"
      },
      "outputs": [],
      "source": [
        "#Sepal Width and Petal Width are selected as Training Features\n",
        "#Iris-Setosa is replaced by -1\n",
        "#Iris-Versicolor is replaced by 1\n",
        "\n",
        "x = iris_data.iloc[0:100, [1, 3]].values\n",
        "y = iris_data.iloc[0:100, 4].values\n",
        "y = n_y.where(y == 'Iris-setosa', -1, 1)"
      ]
    },
    {
      "cell_type": "code",
      "execution_count": 103,
      "id": "1bd9136e",
      "metadata": {
        "colab": {
          "base_uri": "https://localhost:8080/"
        },
        "id": "1bd9136e",
        "outputId": "edcc8318-fe63-42d3-bf4e-356083c5d73e"
      },
      "outputs": [
        {
          "output_type": "execute_result",
          "data": {
            "text/plain": [
              "<__main__.LINEAR_CATEGORIZER at 0x7f64f2032950>"
            ]
          },
          "metadata": {},
          "execution_count": 103
        }
      ],
      "source": [
        "Classifier2 = LINEAR_CATEGORIZER(Learn_Rate=0.01, Iterations=50)\n",
        "Classifier2.fit(x, y)"
      ]
    },
    {
      "cell_type": "code",
      "execution_count": 104,
      "id": "15d496fe",
      "metadata": {
        "colab": {
          "base_uri": "https://localhost:8080/",
          "height": 334
        },
        "id": "15d496fe",
        "outputId": "1a5b6a05-83b4-4007-c6c6-3e760978358c"
      },
      "outputs": [
        {
          "output_type": "stream",
          "name": "stderr",
          "text": [
            "WARNING:matplotlib.axes._axes:*c* argument looks like a single numeric RGB or RGBA sequence, which should be avoided as value-mapping will have precedence in case its length matches with *x* & *y*.  Please use the *color* keyword-argument or provide a 2-D array with a single row if you intend to specify the same RGB or RGBA value for all points.\n",
            "WARNING:matplotlib.axes._axes:*c* argument looks like a single numeric RGB or RGBA sequence, which should be avoided as value-mapping will have precedence in case its length matches with *x* & *y*.  Please use the *color* keyword-argument or provide a 2-D array with a single row if you intend to specify the same RGB or RGBA value for all points.\n"
          ]
        },
        {
          "output_type": "display_data",
          "data": {
            "text/plain": [
              "<Figure size 432x288 with 1 Axes>"
            ],
            "image/png": "[encoded data removed]"
          },
          "metadata": {
            "needs_background": "light"
          }
        }
      ],
      "source": [
        "plot_decision_surface(x, y, classifier=Classifier2)\n",
        "mlt.xlabel('Sepal Width (cm)')\n",
        "mlt.ylabel('Petal Width (cm)')\n",
        "mlt.legend()\n",
        "mlt.show()"
      ]
    },
    {
      "cell_type": "markdown",
      "id": "b6548b94",
      "metadata": {
        "id": "b6548b94"
      },
      "source": [
        "Linear Classifier for classying Iris-Versicolor and Iris-Virginica"
      ]
    },
    {
      "cell_type": "code",
      "execution_count": 105,
      "id": "86a0ce19",
      "metadata": {
        "id": "86a0ce19"
      },
      "outputs": [],
      "source": [
        "#Sepal Length and Petal Length are selected as Training Features\n",
        "#Iris-Versicolor is replaced by -1\n",
        "#Iris-Virginica is replaced by 1\n",
        "\n",
        "x = iris_data.iloc[50:100, [0, 2]].values\n",
        "y = iris_data.iloc[50:100, 4].values\n",
        "y = n_y.where(y == 'Iris-versicolor', -1, 1)"
      ]
    },
    {
      "cell_type": "code",
      "execution_count": 106,
      "id": "00fd7e8f",
      "metadata": {
        "colab": {
          "base_uri": "https://localhost:8080/"
        },
        "id": "00fd7e8f",
        "outputId": "2bd9c6f1-2a36-42df-8b4b-ff48313cf376"
      },
      "outputs": [
        {
          "output_type": "execute_result",
          "data": {
            "text/plain": [
              "<__main__.LINEAR_CATEGORIZER at 0x7f64f1fab690>"
            ]
          },
          "metadata": {},
          "execution_count": 106
        }
      ],
      "source": [
        "Classifier3 = LINEAR_CATEGORIZER(Learn_Rate=0.02, Iterations=100)\n",
        "Classifier3.fit(x, y)"
      ]
    },
    {
      "cell_type": "code",
      "execution_count": 107,
      "id": "9458d43a",
      "metadata": {
        "colab": {
          "base_uri": "https://localhost:8080/",
          "height": 316
        },
        "id": "9458d43a",
        "outputId": "b460691f-f451-40b8-f489-cf875b335134"
      },
      "outputs": [
        {
          "output_type": "stream",
          "name": "stderr",
          "text": [
            "WARNING:matplotlib.axes._axes:*c* argument looks like a single numeric RGB or RGBA sequence, which should be avoided as value-mapping will have precedence in case its length matches with *x* & *y*.  Please use the *color* keyword-argument or provide a 2-D array with a single row if you intend to specify the same RGB or RGBA value for all points.\n"
          ]
        },
        {
          "output_type": "display_data",
          "data": {
            "text/plain": [
              "<Figure size 432x288 with 1 Axes>"
            ],
            "image/png": "[encoded data removed]"
          },
          "metadata": {
            "needs_background": "light"
          }
        }
      ],
      "source": [
        "plot_decision_surface(x, y, classifier=Classifier3)\n",
        "mlt.xlabel('Sepal Length (cm)')\n",
        "mlt.ylabel('Petal Length (cm)')\n",
        "mlt.legend()\n",
        "mlt.show()"
      ]
    },
    {
      "cell_type": "code",
      "execution_count": 108,
      "id": "19082d54",
      "metadata": {
        "id": "19082d54"
      },
      "outputs": [],
      "source": [
        "#Sepal Width and Petal Width are selected as Training Features\n",
        "#Iris-Versicolor is replaced by -1\n",
        "#Iris-Virginica is replaced by 1\n",
        "\n",
        "x = iris_data.iloc[50:100, [1, 3]].values\n",
        "y = iris_data.iloc[50:100, 4].values\n",
        "y = n_y.where(y == 'Iris-versicolor', -1, 1)"
      ]
    },
    {
      "cell_type": "code",
      "execution_count": 109,
      "id": "ffdcafb3",
      "metadata": {
        "colab": {
          "base_uri": "https://localhost:8080/"
        },
        "id": "ffdcafb3",
        "outputId": "253d3fd2-806a-415a-c132-a2067edd8cb6"
      },
      "outputs": [
        {
          "output_type": "execute_result",
          "data": {
            "text/plain": [
              "<__main__.LINEAR_CATEGORIZER at 0x7f64f234f050>"
            ]
          },
          "metadata": {},
          "execution_count": 109
        }
      ],
      "source": [
        "Classifier4 = LINEAR_CATEGORIZER(Learn_Rate=0.01, Iterations=50)\n",
        "Classifier4.fit(x, y)"
      ]
    },
    {
      "cell_type": "code",
      "execution_count": 110,
      "id": "9a5a1b51",
      "metadata": {
        "colab": {
          "base_uri": "https://localhost:8080/",
          "height": 316
        },
        "id": "9a5a1b51",
        "outputId": "0d902a99-4721-4a90-8fe7-dcd0a7493fa5"
      },
      "outputs": [
        {
          "output_type": "stream",
          "name": "stderr",
          "text": [
            "WARNING:matplotlib.axes._axes:*c* argument looks like a single numeric RGB or RGBA sequence, which should be avoided as value-mapping will have precedence in case its length matches with *x* & *y*.  Please use the *color* keyword-argument or provide a 2-D array with a single row if you intend to specify the same RGB or RGBA value for all points.\n"
          ]
        },
        {
          "output_type": "display_data",
          "data": {
            "text/plain": [
              "<Figure size 432x288 with 1 Axes>"
            ],
            "image/png": "[encoded data removed]"
          },
          "metadata": {
            "needs_background": "light"
          }
        }
      ],
      "source": [
        "plot_decision_surface(x, y, classifier=Classifier4)\n",
        "mlt.xlabel('Sepal Length (cm)')\n",
        "mlt.ylabel('Petal Length (cm)')\n",
        "mlt.legend()\n",
        "mlt.show()"
      ]
    },
    {
      "cell_type": "markdown",
      "id": "8eb2d3a8",
      "metadata": {
        "id": "8eb2d3a8"
      },
      "source": [
        "Linear Classifier for classifying Iris-Setosa and Iris-Virginica"
      ]
    },
    {
      "cell_type": "code",
      "execution_count": 111,
      "id": "c59a051b",
      "metadata": {
        "colab": {
          "base_uri": "https://localhost:8080/"
        },
        "id": "c59a051b",
        "outputId": "85c06805-9fb1-4757-a10b-4e384c27f1d2"
      },
      "outputs": [
        {
          "output_type": "stream",
          "name": "stdout",
          "text": [
            "['Iris-setosa' 'Iris-setosa' 'Iris-setosa' 'Iris-setosa' 'Iris-setosa'\n",
            " 'Iris-setosa' 'Iris-setosa' 'Iris-setosa' 'Iris-setosa' 'Iris-setosa'\n",
            " 'Iris-setosa' 'Iris-setosa' 'Iris-setosa' 'Iris-setosa' 'Iris-setosa'\n",
            " 'Iris-setosa' 'Iris-setosa' 'Iris-setosa' 'Iris-setosa' 'Iris-setosa'\n",
            " 'Iris-setosa' 'Iris-setosa' 'Iris-setosa' 'Iris-setosa' 'Iris-setosa'\n",
            " 'Iris-setosa' 'Iris-setosa' 'Iris-setosa' 'Iris-setosa' 'Iris-setosa'\n",
            " 'Iris-setosa' 'Iris-setosa' 'Iris-setosa' 'Iris-setosa' 'Iris-setosa'\n",
            " 'Iris-setosa' 'Iris-setosa' 'Iris-setosa' 'Iris-setosa' 'Iris-setosa'\n",
            " 'Iris-setosa' 'Iris-setosa' 'Iris-setosa' 'Iris-setosa' 'Iris-setosa'\n",
            " 'Iris-setosa' 'Iris-setosa' 'Iris-setosa' 'Iris-setosa' 'Iris-setosa'\n",
            " 'Iris-virginica' 'Iris-virginica' 'Iris-virginica' 'Iris-virginica'\n",
            " 'Iris-virginica' 'Iris-virginica' 'Iris-virginica' 'Iris-virginica'\n",
            " 'Iris-virginica' 'Iris-virginica' 'Iris-virginica' 'Iris-virginica'\n",
            " 'Iris-virginica' 'Iris-virginica' 'Iris-virginica' 'Iris-virginica'\n",
            " 'Iris-virginica' 'Iris-virginica' 'Iris-virginica' 'Iris-virginica'\n",
            " 'Iris-virginica' 'Iris-virginica' 'Iris-virginica' 'Iris-virginica'\n",
            " 'Iris-virginica' 'Iris-virginica' 'Iris-virginica' 'Iris-virginica'\n",
            " 'Iris-virginica' 'Iris-virginica' 'Iris-virginica' 'Iris-virginica'\n",
            " 'Iris-virginica' 'Iris-virginica' 'Iris-virginica' 'Iris-virginica'\n",
            " 'Iris-virginica' 'Iris-virginica' 'Iris-virginica' 'Iris-virginica'\n",
            " 'Iris-virginica' 'Iris-virginica' 'Iris-virginica' 'Iris-virginica'\n",
            " 'Iris-virginica' 'Iris-virginica' 'Iris-virginica' 'Iris-virginica'\n",
            " 'Iris-virginica' 'Iris-virginica']\n"
          ]
        }
      ],
      "source": [
        "#Sepal Length and Petal Length are selected as Training Features\n",
        "#Iris-Setosa is replaced by -1\n",
        "#Iris-Virginica is replaced by 1\n",
        "\n",
        "x = iris_data.loc[(iris_data[4] == 'Iris-setosa') | (iris_data[4] == 'Iris-virginica'), [0, 2]].values\n",
        "y = iris_data.loc[(iris_data[4] == 'Iris-setosa') | (iris_data[4] == 'Iris-virginica'), 4].values\n",
        "print(y)\n",
        "y = n_y.where(y == 'Iris-setosa', -1, 1)"
      ]
    },
    {
      "cell_type": "code",
      "execution_count": 112,
      "id": "3afc2f3a",
      "metadata": {
        "colab": {
          "base_uri": "https://localhost:8080/"
        },
        "id": "3afc2f3a",
        "outputId": "173b3714-e481-48ed-e89c-da8aa264ae43"
      },
      "outputs": [
        {
          "output_type": "execute_result",
          "data": {
            "text/plain": [
              "array([-1, -1, -1, -1, -1, -1, -1, -1, -1, -1, -1, -1, -1, -1, -1, -1, -1,\n",
              "       -1, -1, -1, -1, -1, -1, -1, -1, -1, -1, -1, -1, -1, -1, -1, -1, -1,\n",
              "       -1, -1, -1, -1, -1, -1, -1, -1, -1, -1, -1, -1, -1, -1, -1, -1,  1,\n",
              "        1,  1,  1,  1,  1,  1,  1,  1,  1,  1,  1,  1,  1,  1,  1,  1,  1,\n",
              "        1,  1,  1,  1,  1,  1,  1,  1,  1,  1,  1,  1,  1,  1,  1,  1,  1,\n",
              "        1,  1,  1,  1,  1,  1,  1,  1,  1,  1,  1,  1,  1,  1,  1])"
            ]
          },
          "metadata": {},
          "execution_count": 112
        }
      ],
      "source": [
        "y"
      ]
    },
    {
      "cell_type": "code",
      "execution_count": 113,
      "id": "a31c5615",
      "metadata": {
        "colab": {
          "base_uri": "https://localhost:8080/"
        },
        "id": "a31c5615",
        "outputId": "414187e0-4518-4d93-c424-8af69fce3d11"
      },
      "outputs": [
        {
          "output_type": "execute_result",
          "data": {
            "text/plain": [
              "<__main__.LINEAR_CATEGORIZER at 0x7f64f1ebd790>"
            ]
          },
          "metadata": {},
          "execution_count": 113
        }
      ],
      "source": [
        "Classifier5 = LINEAR_CATEGORIZER(Learn_Rate=0.02, Iterations=100)\n",
        "Classifier5.fit(x, y)"
      ]
    },
    {
      "cell_type": "code",
      "execution_count": 114,
      "id": "3b74deca",
      "metadata": {
        "colab": {
          "base_uri": "https://localhost:8080/",
          "height": 334
        },
        "id": "3b74deca",
        "outputId": "27175a79-7560-4df2-db4d-cea5db14b07e"
      },
      "outputs": [
        {
          "output_type": "stream",
          "name": "stderr",
          "text": [
            "WARNING:matplotlib.axes._axes:*c* argument looks like a single numeric RGB or RGBA sequence, which should be avoided as value-mapping will have precedence in case its length matches with *x* & *y*.  Please use the *color* keyword-argument or provide a 2-D array with a single row if you intend to specify the same RGB or RGBA value for all points.\n",
            "WARNING:matplotlib.axes._axes:*c* argument looks like a single numeric RGB or RGBA sequence, which should be avoided as value-mapping will have precedence in case its length matches with *x* & *y*.  Please use the *color* keyword-argument or provide a 2-D array with a single row if you intend to specify the same RGB or RGBA value for all points.\n"
          ]
        },
        {
          "output_type": "display_data",
          "data": {
            "text/plain": [
              "<Figure size 432x288 with 1 Axes>"
            ],
            "image/png": "[encoded data removed]"
          },
          "metadata": {
            "needs_background": "light"
          }
        }
      ],
      "source": [
        "plot_decision_surface(x, y, classifier=Classifier5)\n",
        "mlt.xlabel('Sepal Length (cm)')\n",
        "mlt.ylabel('Petal Length (cm)')\n",
        "mlt.legend()\n",
        "mlt.show()"
      ]
    },
    {
      "cell_type": "code",
      "execution_count": 115,
      "id": "d5f01b61",
      "metadata": {
        "colab": {
          "base_uri": "https://localhost:8080/"
        },
        "id": "d5f01b61",
        "outputId": "80ce9dc5-a1ad-4d95-c44f-85728338825a"
      },
      "outputs": [
        {
          "output_type": "stream",
          "name": "stdout",
          "text": [
            "['Iris-setosa' 'Iris-setosa' 'Iris-setosa' 'Iris-setosa' 'Iris-setosa'\n",
            " 'Iris-setosa' 'Iris-setosa' 'Iris-setosa' 'Iris-setosa' 'Iris-setosa'\n",
            " 'Iris-setosa' 'Iris-setosa' 'Iris-setosa' 'Iris-setosa' 'Iris-setosa'\n",
            " 'Iris-setosa' 'Iris-setosa' 'Iris-setosa' 'Iris-setosa' 'Iris-setosa'\n",
            " 'Iris-setosa' 'Iris-setosa' 'Iris-setosa' 'Iris-setosa' 'Iris-setosa'\n",
            " 'Iris-setosa' 'Iris-setosa' 'Iris-setosa' 'Iris-setosa' 'Iris-setosa'\n",
            " 'Iris-setosa' 'Iris-setosa' 'Iris-setosa' 'Iris-setosa' 'Iris-setosa'\n",
            " 'Iris-setosa' 'Iris-setosa' 'Iris-setosa' 'Iris-setosa' 'Iris-setosa'\n",
            " 'Iris-setosa' 'Iris-setosa' 'Iris-setosa' 'Iris-setosa' 'Iris-setosa'\n",
            " 'Iris-setosa' 'Iris-setosa' 'Iris-setosa' 'Iris-setosa' 'Iris-setosa'\n",
            " 'Iris-virginica' 'Iris-virginica' 'Iris-virginica' 'Iris-virginica'\n",
            " 'Iris-virginica' 'Iris-virginica' 'Iris-virginica' 'Iris-virginica'\n",
            " 'Iris-virginica' 'Iris-virginica' 'Iris-virginica' 'Iris-virginica'\n",
            " 'Iris-virginica' 'Iris-virginica' 'Iris-virginica' 'Iris-virginica'\n",
            " 'Iris-virginica' 'Iris-virginica' 'Iris-virginica' 'Iris-virginica'\n",
            " 'Iris-virginica' 'Iris-virginica' 'Iris-virginica' 'Iris-virginica'\n",
            " 'Iris-virginica' 'Iris-virginica' 'Iris-virginica' 'Iris-virginica'\n",
            " 'Iris-virginica' 'Iris-virginica' 'Iris-virginica' 'Iris-virginica'\n",
            " 'Iris-virginica' 'Iris-virginica' 'Iris-virginica' 'Iris-virginica'\n",
            " 'Iris-virginica' 'Iris-virginica' 'Iris-virginica' 'Iris-virginica'\n",
            " 'Iris-virginica' 'Iris-virginica' 'Iris-virginica' 'Iris-virginica'\n",
            " 'Iris-virginica' 'Iris-virginica' 'Iris-virginica' 'Iris-virginica'\n",
            " 'Iris-virginica' 'Iris-virginica']\n"
          ]
        }
      ],
      "source": [
        "#Sepal Width and Petal Width are selected as Training Features\n",
        "#Iris-Setosa is replaced by -1\n",
        "#Iris-Virginica is replaced by 1\n",
        "\n",
        "x = iris_data.loc[(iris_data[4] == 'Iris-setosa') | (iris_data[4] == 'Iris-virginica'), [1, 3]].values\n",
        "y = iris_data.loc[(iris_data[4] == 'Iris-setosa') | (iris_data[4] == 'Iris-virginica'), 4].values\n",
        "print(y)\n",
        "y = n_y.where(y == 'Iris-setosa', -1, 1)"
      ]
    },
    {
      "cell_type": "code",
      "execution_count": 116,
      "id": "88c5916a",
      "metadata": {
        "colab": {
          "base_uri": "https://localhost:8080/"
        },
        "id": "88c5916a",
        "outputId": "63621950-fc98-470f-8405-8d9c045ca9fa"
      },
      "outputs": [
        {
          "output_type": "execute_result",
          "data": {
            "text/plain": [
              "<__main__.LINEAR_CATEGORIZER at 0x7f64f1ebd650>"
            ]
          },
          "metadata": {},
          "execution_count": 116
        }
      ],
      "source": [
        "Classifier6 = LINEAR_CATEGORIZER(Learn_Rate=0.02, Iterations=100)\n",
        "Classifier6.fit(x, y)"
      ]
    },
    {
      "cell_type": "markdown",
      "source": [
        "OBSERVATIONS\n",
        "\n",
        "Linear categorization making a clear distinction is obtained in case of \n",
        "\n",
        "1 ) Iris-Setosa vs Iris-Versicolor\n",
        "2) Iris-Setosa vs Iris-Virginica\n",
        "\n",
        "It is not obtained in case of Iris-Versicolor vs Iris-Virginica."
      ],
      "metadata": {
        "id": "Rytv4A7H5kGu"
      },
      "id": "Rytv4A7H5kGu"
    },
    {
      "cell_type": "code",
      "execution_count": 117,
      "id": "69414665",
      "metadata": {
        "colab": {
          "base_uri": "https://localhost:8080/",
          "height": 334
        },
        "id": "69414665",
        "outputId": "aba4f184-3689-4f76-bcf6-8bf2421ece08"
      },
      "outputs": [
        {
          "output_type": "stream",
          "name": "stderr",
          "text": [
            "WARNING:matplotlib.axes._axes:*c* argument looks like a single numeric RGB or RGBA sequence, which should be avoided as value-mapping will have precedence in case its length matches with *x* & *y*.  Please use the *color* keyword-argument or provide a 2-D array with a single row if you intend to specify the same RGB or RGBA value for all points.\n",
            "WARNING:matplotlib.axes._axes:*c* argument looks like a single numeric RGB or RGBA sequence, which should be avoided as value-mapping will have precedence in case its length matches with *x* & *y*.  Please use the *color* keyword-argument or provide a 2-D array with a single row if you intend to specify the same RGB or RGBA value for all points.\n"
          ]
        },
        {
          "output_type": "display_data",
          "data": {
            "text/plain": [
              "<Figure size 432x288 with 1 Axes>"
            ],
            "image/png": "[encoded data removed]"
          },
          "metadata": {
            "needs_background": "light"
          }
        }
      ],
      "source": [
        "plot_decision_surface(x, y, classifier=Classifier6)\n",
        "mlt.xlabel('Sepal Width (cm)')\n",
        "mlt.ylabel('Petal Width (cm)')\n",
        "mlt.legend()\n",
        "mlt.show()"
      ]
    },
    {
      "cell_type": "markdown",
      "source": [],
      "metadata": {
        "id": "97M4Rj6H5hnz"
      },
      "id": "97M4Rj6H5hnz"
    }
  ],
  "metadata": {
    "kernelspec": {
      "display_name": "Python 3 (ipykernel)",
      "language": "python",
      "name": "python3"
    },
    "language_info": {
      "codemirror_mode": {
        "name": "ipython",
        "version": 3
      },
      "file_extension": ".py",
      "mimetype": "text/x-python",
      "name": "python",
      "nbconvert_exporter": "python",
      "pygments_lexer": "ipython3",
      "version": "3.8.10"
    },
    "colab": {
      "provenance": [],
      "collapsed_sections": []
    }
  },
  "nbformat": 4,
  "nbformat_minor": 5
}